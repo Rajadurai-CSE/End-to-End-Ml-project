{
 "cells": [
  {
   "cell_type": "markdown",
   "metadata": {},
   "source": [
    "Problem : Given reading and writing score predict math score\n"
   ]
  },
  {
   "cell_type": "code",
   "execution_count": 77,
   "metadata": {},
   "outputs": [],
   "source": [
    "# Basic Import\n",
    "import numpy as np\n",
    "import pandas as pd\n",
    "import matplotlib.pyplot as plt \n",
    "import seaborn as sns\n",
    "# Modelling\n",
    "from sklearn.metrics import mean_squared_error, r2_score\n",
    "from sklearn.neighbors import KNeighborsRegressor\n",
    "from sklearn.tree import DecisionTreeRegressor\n",
    "from sklearn.ensemble import RandomForestRegressor,AdaBoostRegressor\n",
    "from sklearn.svm import SVR\n",
    "from sklearn.linear_model import LinearRegression, Ridge,Lasso\n",
    "from sklearn.metrics import r2_score, mean_absolute_error, mean_squared_error\n",
    "from sklearn.model_selection import RandomizedSearchCV\n",
    "from catboost import CatBoostRegressor\n",
    "from xgboost import XGBRegressor\n",
    "import warnings"
   ]
  },
  {
   "cell_type": "markdown",
   "metadata": {},
   "source": [
    "Importing all Regression models from sklearn"
   ]
  },
  {
   "cell_type": "code",
   "execution_count": 78,
   "metadata": {},
   "outputs": [],
   "source": [
    "import pandas as pd\n",
    "df = pd.read_csv('./data/stud.csv')"
   ]
  },
  {
   "cell_type": "code",
   "execution_count": 80,
   "metadata": {},
   "outputs": [
    {
     "data": {
      "text/plain": [
       "gender                         object\n",
       "race_ethnicity                 object\n",
       "parental_level_of_education    object\n",
       "lunch                          object\n",
       "test_preparation_course        object\n",
       "math_score                      int64\n",
       "reading_score                   int64\n",
       "writing_score                   int64\n",
       "dtype: object"
      ]
     },
     "execution_count": 80,
     "metadata": {},
     "output_type": "execute_result"
    }
   ],
   "source": [
    "df.dtypes"
   ]
  },
  {
   "cell_type": "markdown",
   "metadata": {},
   "source": [
    "Label Encoding vs One Hot Encoding"
   ]
  },
  {
   "cell_type": "markdown",
   "metadata": {},
   "source": [
    "We can prefer one Hot Encoding on features like race ethnicity and parental level education data are nominal and have no definite relationship between them."
   ]
  },
  {
   "cell_type": "code",
   "execution_count": 82,
   "metadata": {},
   "outputs": [],
   "source": [
    "#target variable\n",
    "target = df['math_score']\n",
    "df.drop(['math_score'],axis=1,inplace=True)\n"
   ]
  },
  {
   "cell_type": "code",
   "execution_count": 85,
   "metadata": {},
   "outputs": [],
   "source": [
    "num_features = df.select_dtypes(exclude=\"object\").columns\n",
    "cat_features = df.select_dtypes(include=\"object\").columns\n",
    "\n",
    "from sklearn.preprocessing import StandardScaler,OneHotEncoder\n",
    "from sklearn.compose import ColumnTransformer\n",
    "\n",
    "ohe = OneHotEncoder()\n",
    "sc = StandardScaler()\n",
    "\n",
    "preprocess_pipeline = ColumnTransformer(\n",
    "  [('cat feature processing',ohe,cat_features),\n",
    "   ('num feature processing',sc,num_features),\n",
    "   \n",
    "   ],remainder='passthrough'\n",
    ")\n",
    "\n"
   ]
  },
  {
   "cell_type": "code",
   "execution_count": 86,
   "metadata": {},
   "outputs": [
    {
     "data": {
      "text/plain": [
       "array([[ 1.        ,  0.        ,  0.        , ...,  1.        ,\n",
       "         0.19399858,  0.39149181],\n",
       "       [ 1.        ,  0.        ,  0.        , ...,  0.        ,\n",
       "         1.42747598,  1.31326868],\n",
       "       [ 1.        ,  0.        ,  0.        , ...,  1.        ,\n",
       "         1.77010859,  1.64247471],\n",
       "       ...,\n",
       "       [ 1.        ,  0.        ,  0.        , ...,  0.        ,\n",
       "         0.12547206, -0.20107904],\n",
       "       [ 1.        ,  0.        ,  0.        , ...,  0.        ,\n",
       "         0.60515772,  0.58901542],\n",
       "       [ 1.        ,  0.        ,  0.        , ...,  1.        ,\n",
       "         1.15336989,  1.18158627]])"
      ]
     },
     "execution_count": 86,
     "metadata": {},
     "output_type": "execute_result"
    }
   ],
   "source": [
    "X = preprocess_pipeline.fit_transform(df)\n",
    "X"
   ]
  },
  {
   "cell_type": "code",
   "execution_count": 87,
   "metadata": {},
   "outputs": [
    {
     "data": {
      "text/plain": [
       "(1000, 19)"
      ]
     },
     "execution_count": 87,
     "metadata": {},
     "output_type": "execute_result"
    }
   ],
   "source": [
    "X.shape"
   ]
  },
  {
   "cell_type": "markdown",
   "metadata": {},
   "source": [
    "We have successfully converted our dataframe into one hot type"
   ]
  },
  {
   "cell_type": "code",
   "execution_count": 99,
   "metadata": {},
   "outputs": [],
   "source": [
    "from sklearn.model_selection import train_test_split\n",
    "x_train,x_test,y_train,y_test = train_test_split(X,target,test_size=0.2,random_state=20)"
   ]
  },
  {
   "cell_type": "code",
   "execution_count": 100,
   "metadata": {},
   "outputs": [
    {
     "data": {
      "text/plain": [
       "(800, 19)"
      ]
     },
     "execution_count": 100,
     "metadata": {},
     "output_type": "execute_result"
    }
   ],
   "source": [
    "x_train.shape"
   ]
  },
  {
   "cell_type": "code",
   "execution_count": 101,
   "metadata": {},
   "outputs": [
    {
     "data": {
      "text/plain": [
       "(200, 19)"
      ]
     },
     "execution_count": 101,
     "metadata": {},
     "output_type": "execute_result"
    }
   ],
   "source": [
    "x_test.shape"
   ]
  },
  {
   "cell_type": "code",
   "execution_count": 102,
   "metadata": {},
   "outputs": [],
   "source": [
    "def evaluate_model(true,predicted):\n",
    "  mae = mean_absolute_error(true,predicted)\n",
    "  mse = mean_squared_error(true,predicted)\n",
    "  r2 = r2_score(true,predicted)\n",
    "  rmse = np.sqrt(mse)\n",
    "\n",
    "  return mse,mae,r2,rmse"
   ]
  },
  {
   "cell_type": "code",
   "execution_count": 106,
   "metadata": {},
   "outputs": [
    {
     "name": "stdout",
     "output_type": "stream",
     "text": [
      "Linear Regression\n",
      "Model performance for Training set\n",
      "- Root Mean Squared Error: 5.2834\n",
      "- Mean Absolute Error: 4.2084\n",
      "- R2 Score: 0.8793\n",
      "----------------------------------\n",
      "Model performance for Test set\n",
      "- Root Mean Squared Error: 5.5037\n",
      "- Mean Absolute Error: 4.4045\n",
      "- R2 Score: 0.8643\n",
      "===================================\n",
      "\n",
      "\n",
      "Lasso\n",
      "Model performance for Training set\n",
      "- Root Mean Squared Error: 6.4936\n",
      "- Mean Absolute Error: 5.1109\n",
      "- R2 Score: 0.8177\n",
      "----------------------------------\n",
      "Model performance for Test set\n",
      "- Root Mean Squared Error: 6.5424\n",
      "- Mean Absolute Error: 5.2077\n",
      "- R2 Score: 0.8082\n",
      "===================================\n",
      "\n",
      "\n",
      "Ridge\n",
      "Model performance for Training set\n",
      "- Root Mean Squared Error: 5.2763\n",
      "- Mean Absolute Error: 4.2044\n",
      "- R2 Score: 0.8796\n",
      "----------------------------------\n",
      "Model performance for Test set\n",
      "- Root Mean Squared Error: 5.5410\n",
      "- Mean Absolute Error: 4.4382\n",
      "- R2 Score: 0.8625\n",
      "===================================\n",
      "\n",
      "\n",
      "KNeighborsRegressor\n",
      "Model performance for Training set\n",
      "- Root Mean Squared Error: 5.7222\n",
      "- Mean Absolute Error: 4.5157\n",
      "- R2 Score: 0.8584\n",
      "----------------------------------\n",
      "Model performance for Test set\n",
      "- Root Mean Squared Error: 7.1061\n",
      "- Mean Absolute Error: 5.6610\n",
      "- R2 Score: 0.7738\n",
      "===================================\n",
      "\n",
      "\n",
      "DecisionTree\n",
      "Model performance for Training set\n",
      "- Root Mean Squared Error: 0.2500\n",
      "- Mean Absolute Error: 0.0125\n",
      "- R2 Score: 0.9997\n",
      "----------------------------------\n",
      "Model performance for Test set\n",
      "- Root Mean Squared Error: 8.4430\n",
      "- Mean Absolute Error: 6.8750\n",
      "- R2 Score: 0.6807\n",
      "===================================\n",
      "\n",
      "\n",
      "RandomForest\n",
      "Model performance for Training set\n",
      "- Root Mean Squared Error: 2.2349\n",
      "- Mean Absolute Error: 1.7741\n",
      "- R2 Score: 0.9784\n",
      "----------------------------------\n",
      "Model performance for Test set\n",
      "- Root Mean Squared Error: 6.4765\n",
      "- Mean Absolute Error: 5.1401\n",
      "- R2 Score: 0.8121\n",
      "===================================\n",
      "\n",
      "\n",
      "XGBRegressor\n",
      "Model performance for Training set\n",
      "- Root Mean Squared Error: 0.8512\n",
      "- Mean Absolute Error: 0.5619\n",
      "- R2 Score: 0.9969\n",
      "----------------------------------\n",
      "Model performance for Test set\n",
      "- Root Mean Squared Error: 6.9030\n",
      "- Mean Absolute Error: 5.3852\n",
      "- R2 Score: 0.7865\n",
      "===================================\n",
      "\n",
      "\n",
      "CatBoostRegressor\n",
      "Model performance for Training set\n",
      "- Root Mean Squared Error: 2.9413\n",
      "- Mean Absolute Error: 2.2646\n",
      "- R2 Score: 0.9626\n",
      "----------------------------------\n",
      "Model performance for Test set\n",
      "- Root Mean Squared Error: 6.2104\n",
      "- Mean Absolute Error: 4.9122\n",
      "- R2 Score: 0.8272\n",
      "===================================\n",
      "\n",
      "\n",
      "AdaBoostRegressor\n",
      "Model performance for Training set\n",
      "- Root Mean Squared Error: 5.5388\n",
      "- Mean Absolute Error: 4.5347\n",
      "- R2 Score: 0.8673\n",
      "----------------------------------\n",
      "Model performance for Test set\n",
      "- Root Mean Squared Error: 6.6534\n",
      "- Mean Absolute Error: 5.2436\n",
      "- R2 Score: 0.8017\n",
      "===================================\n",
      "\n",
      "\n"
     ]
    }
   ],
   "source": [
    "models = {\n",
    "  \"Linear Regression\" : LinearRegression(),\n",
    "  \"Lasso\" : Lasso(),\n",
    "  \"Ridge\" : Ridge(),\n",
    "  \"KNeighborsRegressor\" : KNeighborsRegressor(),\n",
    "  \"DecisionTree\" : DecisionTreeRegressor(),\n",
    "  \"RandomForest\" : RandomForestRegressor(),\n",
    "  \"XGBRegressor\" : XGBRegressor(),\n",
    "  \"CatBoostRegressor\" : CatBoostRegressor(verbose=False),\n",
    "  \"AdaBoostRegressor\" : AdaBoostRegressor()\n",
    "}\n",
    "\n",
    "\n",
    "\n",
    "model_list_name = []\n",
    "model_ = []\n",
    "r2_list = []\n",
    "\n",
    "for i in range(len(list(models))):\n",
    "  model = list(models.values())[i]\n",
    "  model.fit(x_train,y_train)\n",
    "\n",
    "  y_train_pred = model.predict(x_train)\n",
    "  y_test_pred = model.predict(x_test)\n",
    "\n",
    "  train_mse,train_mae,train_r2,train_rmse = evaluate_model(y_train,y_train_pred)\n",
    "\n",
    "  test_mse,test_mae,test_r2,test_rmse = evaluate_model(y_test,y_test_pred)\n",
    "\n",
    "  print(list(models.keys())[i])\n",
    "  model_list_name.append(list(models.keys())[i])\n",
    "  model_.append(model)\n",
    "\n",
    "  print('Model performance for Training set')\n",
    "  print(\"- Root Mean Squared Error: {:.4f}\".format(train_rmse))\n",
    "  print(\"- Mean Absolute Error: {:.4f}\".format(train_mae))\n",
    "  print(\"- R2 Score: {:.4f}\".format(train_r2))\n",
    "\n",
    "\n",
    "\n",
    "  print('----------------------------------')\n",
    "\n",
    "  print('Model performance for Test set')\n",
    "  print(\"- Root Mean Squared Error: {:.4f}\".format(test_rmse))\n",
    "  print(\"- Mean Absolute Error: {:.4f}\".format(test_mae))\n",
    "  print(\"- R2 Score: {:.4f}\".format(test_r2))\n",
    "  r2_list.append(test_r2)\n",
    "    \n",
    "  print('='*35)\n",
    "  print('\\n')\n",
    "\n",
    "\n",
    "\n"
   ]
  },
  {
   "cell_type": "markdown",
   "metadata": {},
   "source": [
    "Result"
   ]
  },
  {
   "cell_type": "code",
   "execution_count": 107,
   "metadata": {},
   "outputs": [
    {
     "data": {
      "text/html": [
       "<div>\n",
       "<style scoped>\n",
       "    .dataframe tbody tr th:only-of-type {\n",
       "        vertical-align: middle;\n",
       "    }\n",
       "\n",
       "    .dataframe tbody tr th {\n",
       "        vertical-align: top;\n",
       "    }\n",
       "\n",
       "    .dataframe thead th {\n",
       "        text-align: right;\n",
       "    }\n",
       "</style>\n",
       "<table border=\"1\" class=\"dataframe\">\n",
       "  <thead>\n",
       "    <tr style=\"text-align: right;\">\n",
       "      <th></th>\n",
       "      <th>Model</th>\n",
       "      <th>R2_Score</th>\n",
       "      <th>Model</th>\n",
       "    </tr>\n",
       "  </thead>\n",
       "  <tbody>\n",
       "    <tr>\n",
       "      <th>0</th>\n",
       "      <td>Linear Regression</td>\n",
       "      <td>0.864299</td>\n",
       "      <td>LinearRegression()</td>\n",
       "    </tr>\n",
       "    <tr>\n",
       "      <th>2</th>\n",
       "      <td>Ridge</td>\n",
       "      <td>0.862454</td>\n",
       "      <td>Ridge()</td>\n",
       "    </tr>\n",
       "    <tr>\n",
       "      <th>7</th>\n",
       "      <td>CatBoostRegressor</td>\n",
       "      <td>0.827214</td>\n",
       "      <td>&lt;catboost.core.CatBoostRegressor object at 0x0...</td>\n",
       "    </tr>\n",
       "    <tr>\n",
       "      <th>5</th>\n",
       "      <td>RandomForest</td>\n",
       "      <td>0.812091</td>\n",
       "      <td>(DecisionTreeRegressor(max_features=1.0, rando...</td>\n",
       "    </tr>\n",
       "    <tr>\n",
       "      <th>1</th>\n",
       "      <td>Lasso</td>\n",
       "      <td>0.808249</td>\n",
       "      <td>Lasso()</td>\n",
       "    </tr>\n",
       "    <tr>\n",
       "      <th>8</th>\n",
       "      <td>AdaBoostRegressor</td>\n",
       "      <td>0.801685</td>\n",
       "      <td>(DecisionTreeRegressor(max_depth=3, random_sta...</td>\n",
       "    </tr>\n",
       "    <tr>\n",
       "      <th>6</th>\n",
       "      <td>XGBRegressor</td>\n",
       "      <td>0.786528</td>\n",
       "      <td>XGBRegressor(base_score=None, booster=None, ca...</td>\n",
       "    </tr>\n",
       "    <tr>\n",
       "      <th>3</th>\n",
       "      <td>KNeighborsRegressor</td>\n",
       "      <td>0.773779</td>\n",
       "      <td>KNeighborsRegressor()</td>\n",
       "    </tr>\n",
       "    <tr>\n",
       "      <th>4</th>\n",
       "      <td>DecisionTree</td>\n",
       "      <td>0.680651</td>\n",
       "      <td>DecisionTreeRegressor()</td>\n",
       "    </tr>\n",
       "  </tbody>\n",
       "</table>\n",
       "</div>"
      ],
      "text/plain": [
       "                 Model  R2_Score  \\\n",
       "0    Linear Regression  0.864299   \n",
       "2                Ridge  0.862454   \n",
       "7    CatBoostRegressor  0.827214   \n",
       "5         RandomForest  0.812091   \n",
       "1                Lasso  0.808249   \n",
       "8    AdaBoostRegressor  0.801685   \n",
       "6         XGBRegressor  0.786528   \n",
       "3  KNeighborsRegressor  0.773779   \n",
       "4         DecisionTree  0.680651   \n",
       "\n",
       "                                               Model  \n",
       "0                                 LinearRegression()  \n",
       "2                                            Ridge()  \n",
       "7  <catboost.core.CatBoostRegressor object at 0x0...  \n",
       "5  (DecisionTreeRegressor(max_features=1.0, rando...  \n",
       "1                                            Lasso()  \n",
       "8  (DecisionTreeRegressor(max_depth=3, random_sta...  \n",
       "6  XGBRegressor(base_score=None, booster=None, ca...  \n",
       "3                              KNeighborsRegressor()  \n",
       "4                            DecisionTreeRegressor()  "
      ]
     },
     "execution_count": 107,
     "metadata": {},
     "output_type": "execute_result"
    }
   ],
   "source": [
    "result = pd.DataFrame(list(zip(model_list_name,r2_list,model_)),columns = ['Model','R2_Score','Model']).sort_values(by='R2_Score',ascending=False)\n",
    "result"
   ]
  },
  {
   "cell_type": "markdown",
   "metadata": {},
   "source": [
    "Predictions"
   ]
  },
  {
   "cell_type": "code",
   "execution_count": 105,
   "metadata": {},
   "outputs": [],
   "source": [
    "import seaborn as sn"
   ]
  },
  {
   "cell_type": "code",
   "execution_count": 109,
   "metadata": {},
   "outputs": [],
   "source": [
    "lr = LinearRegression()\n",
    "y_pred = model_[0].predict(x_test)"
   ]
  },
  {
   "cell_type": "code",
   "execution_count": 111,
   "metadata": {},
   "outputs": [
    {
     "data": {
      "text/plain": [
       "Text(0, 0.5, 'Y_Pred')"
      ]
     },
     "execution_count": 111,
     "metadata": {},
     "output_type": "execute_result"
    },
    {
     "data": {
      "image/png": "[encoded data removed]",
      "text/plain": [
       "<Figure size 640x480 with 1 Axes>"
      ]
     },
     "metadata": {},
     "output_type": "display_data"
    }
   ],
   "source": [
    "sn.regplot(x = y_test,y = y_pred,color='orange')\n",
    "plt.xlabel('Y_True')\n",
    "plt.ylabel('Y_Pred')"
   ]
  },
  {
   "cell_type": "code",
   "execution_count": 114,
   "metadata": {},
   "outputs": [
    {
     "data": {
      "text/html": [
       "<div>\n",
       "<style scoped>\n",
       "    .dataframe tbody tr th:only-of-type {\n",
       "        vertical-align: middle;\n",
       "    }\n",
       "\n",
       "    .dataframe tbody tr th {\n",
       "        vertical-align: top;\n",
       "    }\n",
       "\n",
       "    .dataframe thead th {\n",
       "        text-align: right;\n",
       "    }\n",
       "</style>\n",
       "<table border=\"1\" class=\"dataframe\">\n",
       "  <thead>\n",
       "    <tr style=\"text-align: right;\">\n",
       "      <th></th>\n",
       "      <th>Y_Real</th>\n",
       "      <th>Y_Predicted</th>\n",
       "      <th>Difference</th>\n",
       "    </tr>\n",
       "  </thead>\n",
       "  <tbody>\n",
       "    <tr>\n",
       "      <th>0</th>\n",
       "      <td>86</td>\n",
       "      <td>83.18750</td>\n",
       "      <td>2.81250</td>\n",
       "    </tr>\n",
       "    <tr>\n",
       "      <th>1</th>\n",
       "      <td>49</td>\n",
       "      <td>51.75000</td>\n",
       "      <td>-2.75000</td>\n",
       "    </tr>\n",
       "    <tr>\n",
       "      <th>2</th>\n",
       "      <td>69</td>\n",
       "      <td>67.21875</td>\n",
       "      <td>1.78125</td>\n",
       "    </tr>\n",
       "    <tr>\n",
       "      <th>3</th>\n",
       "      <td>73</td>\n",
       "      <td>69.25000</td>\n",
       "      <td>3.75000</td>\n",
       "    </tr>\n",
       "    <tr>\n",
       "      <th>4</th>\n",
       "      <td>52</td>\n",
       "      <td>51.37500</td>\n",
       "      <td>0.62500</td>\n",
       "    </tr>\n",
       "    <tr>\n",
       "      <th>...</th>\n",
       "      <td>...</td>\n",
       "      <td>...</td>\n",
       "      <td>...</td>\n",
       "    </tr>\n",
       "    <tr>\n",
       "      <th>195</th>\n",
       "      <td>62</td>\n",
       "      <td>71.68750</td>\n",
       "      <td>-9.68750</td>\n",
       "    </tr>\n",
       "    <tr>\n",
       "      <th>196</th>\n",
       "      <td>73</td>\n",
       "      <td>58.90625</td>\n",
       "      <td>14.09375</td>\n",
       "    </tr>\n",
       "    <tr>\n",
       "      <th>197</th>\n",
       "      <td>64</td>\n",
       "      <td>56.46875</td>\n",
       "      <td>7.53125</td>\n",
       "    </tr>\n",
       "    <tr>\n",
       "      <th>198</th>\n",
       "      <td>63</td>\n",
       "      <td>51.56250</td>\n",
       "      <td>11.43750</td>\n",
       "    </tr>\n",
       "    <tr>\n",
       "      <th>199</th>\n",
       "      <td>69</td>\n",
       "      <td>75.53125</td>\n",
       "      <td>-6.53125</td>\n",
       "    </tr>\n",
       "  </tbody>\n",
       "</table>\n",
       "<p>200 rows × 3 columns</p>\n",
       "</div>"
      ],
      "text/plain": [
       "     Y_Real  Y_Predicted  Difference\n",
       "0        86     83.18750     2.81250\n",
       "1        49     51.75000    -2.75000\n",
       "2        69     67.21875     1.78125\n",
       "3        73     69.25000     3.75000\n",
       "4        52     51.37500     0.62500\n",
       "..      ...          ...         ...\n",
       "195      62     71.68750    -9.68750\n",
       "196      73     58.90625    14.09375\n",
       "197      64     56.46875     7.53125\n",
       "198      63     51.56250    11.43750\n",
       "199      69     75.53125    -6.53125\n",
       "\n",
       "[200 rows x 3 columns]"
      ]
     },
     "execution_count": 114,
     "metadata": {},
     "output_type": "execute_result"
    }
   ],
   "source": [
    "diff_df = pd.DataFrame(data = list(zip(y_test,y_pred,y_test-y_pred)),columns=['Y_Real','Y_Predicted','Difference'])\n",
    "diff_df"
   ]
  },
  {
   "cell_type": "markdown",
   "metadata": {},
   "source": [
    "Linear Regression works well here!!"
   ]
  },
  {
   "cell_type": "code",
   "execution_count": 4,
   "metadata": {},
   "outputs": [],
   "source": [
    "report = {'adaboost':[0.85,0.91,'Raja'],'dict_':[0.43,0.45,'Rahas']}"
   ]
  },
  {
   "cell_type": "code",
   "execution_count": 5,
   "metadata": {},
   "outputs": [],
   "source": [
    "best_model = max(zip(list(report.values())[1],report.keys()))[1]"
   ]
  },
  {
   "cell_type": "code",
   "execution_count": 17,
   "metadata": {},
   "outputs": [],
   "source": [
    "max_key = max(report, key=lambda k: report[k][1])"
   ]
  },
  {
   "cell_type": "code",
   "execution_count": 19,
   "metadata": {},
   "outputs": [
    {
     "data": {
      "text/plain": [
       "[0.85, 0.91, 'Raja']"
      ]
     },
     "execution_count": 19,
     "metadata": {},
     "output_type": "execute_result"
    }
   ],
   "source": [
    "report[max_key]"
   ]
  },
  {
   "cell_type": "code",
   "execution_count": null,
   "metadata": {},
   "outputs": [],
   "source": []
  }
 ],
 "metadata": {
  "kernelspec": {
   "display_name": "Python 3",
   "language": "python",
   "name": "python3"
  },
  "language_info": {
   "codemirror_mode": {
    "name": "ipython",
    "version": 3
   },
   "file_extension": ".py",
   "mimetype": "text/x-python",
   "name": "python",
   "nbconvert_exporter": "python",
   "pygments_lexer": "ipython3",
   "version": "3.9.0"
  }
 },
 "nbformat": 4,
 "nbformat_minor": 2
}
